{
 "cells": [
  {
   "cell_type": "markdown",
   "id": "e6beab51",
   "metadata": {},
   "source": [
    "Name_Harish_Sanjay_Kshirsagar"
   ]
  },
  {
   "cell_type": "code",
   "execution_count": null,
   "id": "e204acf9",
   "metadata": {},
   "outputs": [],
   "source": [
    "MCQ "
   ]
  },
  {
   "cell_type": "code",
   "execution_count": null,
   "id": "ceb3a8a3",
   "metadata": {},
   "outputs": [],
   "source": [
    "1_ python code is copiled or interpreted \n",
    "Ans: 4\n"
   ]
  },
  {
   "cell_type": "code",
   "execution_count": null,
   "id": "016954e4",
   "metadata": {},
   "outputs": [],
   "source": [
    "2_Why does the name of the local veriable start with an underscore discauraged ?\n",
    "Ans: 1"
   ]
  },
  {
   "cell_type": "code",
   "execution_count": null,
   "id": "e475b49b",
   "metadata": {},
   "outputs": [],
   "source": [
    "3_Ho=your are fine \n",
    "Ans: 1"
   ]
  },
  {
   "cell_type": "code",
   "execution_count": null,
   "id": "2f89cd3f",
   "metadata": {},
   "outputs": [],
   "source": [
    "4_\n",
    "Ans: 2"
   ]
  },
  {
   "cell_type": "code",
   "execution_count": null,
   "id": "6ac604f6",
   "metadata": {},
   "outputs": [],
   "source": [
    "5_\n",
    "Ans: 2"
   ]
  },
  {
   "cell_type": "code",
   "execution_count": null,
   "id": "3f7304c9",
   "metadata": {},
   "outputs": [],
   "source": [
    "Ans the following questions 3 marks"
   ]
  },
  {
   "cell_type": "code",
   "execution_count": 7,
   "id": "51498cca",
   "metadata": {},
   "outputs": [
    {
     "name": "stdout",
     "output_type": "stream",
     "text": [
      "Enter_your_nameharishkshirsagar\n"
     ]
    },
    {
     "data": {
      "text/plain": [
       "'hrskhraa'"
      ]
     },
     "execution_count": 7,
     "metadata": {},
     "output_type": "execute_result"
    }
   ],
   "source": [
    "# Que1\n",
    "\n",
    "# Ans\n",
    "\n",
    "string = (input(\"Enter_your_name\"))\n",
    "string[::2]"
   ]
  },
  {
   "cell_type": "code",
   "execution_count": 8,
   "id": "47d27f9c",
   "metadata": {},
   "outputs": [
    {
     "name": "stdout",
     "output_type": "stream",
     "text": [
      "75\n",
      "150\n",
      "145\n",
      "50\n"
     ]
    }
   ],
   "source": [
    "# Que 2\n",
    "# Ans\n",
    "numbers = [12, 75, 150, 180, 145, 525, 50]\n",
    "\n",
    "for number in numbers:\n",
    "    if number % 5 == 0:\n",
    "        if number > 150:\n",
    "            continue  \n",
    "        elif number > 500:\n",
    "            break  \n",
    "        else:\n",
    "            print(number)"
   ]
  },
  {
   "cell_type": "code",
   "execution_count": 9,
   "id": "31e1be10",
   "metadata": {},
   "outputs": [
    {
     "name": "stdout",
     "output_type": "stream",
     "text": [
      "[1, 4, 9, 16, 25, 36, 49]\n"
     ]
    }
   ],
   "source": [
    "# Que(3)\n",
    "# Ans\n",
    "n = [1, 2, 3, 4, 5, 6, 7]\n",
    "\n",
    "square_of_list = [x ** 2 for x in n]\n",
    "\n",
    "print(square_of_list)"
   ]
  },
  {
   "cell_type": "code",
   "execution_count": 10,
   "id": "bc3bde2b",
   "metadata": {},
   "outputs": [
    {
     "name": "stdout",
     "output_type": "stream",
     "text": [
      "{'sun': 30.5, 'mom': 32.6, 'tue': 31.8, 'wed': 33.4, 'thr': 29.8, 'fri': 30.2, 'sat': 29.9}\n"
     ]
    }
   ],
   "source": [
    "# Que (4)\n",
    "# Ans\n",
    "day=[\"sun\",\"mom\",\"tue\",\"wed\",\"thr\",\"fri\",\"sat\"]\n",
    "temp_c=[30.5,32.6,31.8,33.4,29.8,30.2,29.9]\n",
    "\n",
    "week_temp = {d: t for d, t in zip(day, temp_c)}\n",
    "\n",
    "print(week_temp)"
   ]
  },
  {
   "cell_type": "raw",
   "id": "92d7cb0f",
   "metadata": {},
   "source": [
    "# Que (5)\n",
    "# Ans\n",
    "A deck of 52 playing cards\n",
    "there are 4 kings\n",
    "\n",
    "\n",
    " probability of  first card for king is 4/52  as there are 4 kings in a deck of 52 cards.\n",
    "\n",
    "there are now 51 cards left in the deck, with 3 kings remaining. \n",
    "multiply the probabilities:\n",
    "\n",
    "(4/52) * (3/51) = (1/13) * (1/17) \n"
   ]
  },
  {
   "cell_type": "code",
   "execution_count": 13,
   "id": "f9b553c5",
   "metadata": {},
   "outputs": [
    {
     "name": "stdout",
     "output_type": "stream",
     "text": [
      "Some bikes sound high_volume\n",
      "broom broom\n"
     ]
    }
   ],
   "source": [
    "# Que (6)\n",
    "# Ans\n",
    "method overriding is a subclass provides a specific implementation for a method that is already defined in its superclass.\n",
    "When a subclass overrides a method,\n",
    "it means that it replaces the behavior of that method in the superclass\n",
    "with its own implementation.\n",
    "\n",
    "\n",
    "class Bike:\n",
    "    def makeSound(self):\n",
    "        return \"Some bikes sound high_volume\"\n",
    "\n",
    "    \n",
    "class Ducati(Bike):\n",
    "    def makeSound(self):\n",
    "        return \"broom broom\"\n",
    "    \n",
    "bike = Bike()\n",
    "ducati = Ducati()\n",
    "\n",
    "print(bike.makeSound()) \n",
    "print(ducati.makeSound())     \n"
   ]
  },
  {
   "cell_type": "code",
   "execution_count": 14,
   "id": "4bf6cf98",
   "metadata": {},
   "outputs": [
    {
     "name": "stdout",
     "output_type": "stream",
     "text": [
      "Enter a number:45\n",
      "45 is not a multiple of both 5 and 7.\n"
     ]
    }
   ],
   "source": [
    "# Que (7)\n",
    "# Ans\n",
    "def is_multiple_of_5_and_7(number):\n",
    "    if number % 5 == 0 and number % 7 == 0:\n",
    "        return True\n",
    "    else:\n",
    "        return False\n",
    "\n",
    "nums = int(input(\"Enter a number:\"))\n",
    "\n",
    "if is_multiple_of_5_and_7(nums):\n",
    "    print(f\"{nums} is a multiple of both 5 and 7.\")\n",
    "else:\n",
    "    print(f\"{nums} is not a multiple of both 5 and 7.\")\n"
   ]
  },
  {
   "cell_type": "code",
   "execution_count": null,
   "id": "c8c2edc0",
   "metadata": {},
   "outputs": [],
   "source": [
    "# Que (8)\n",
    "# Ans\n",
    "\n",
    "1- uniform distribution\n",
    "2- normal distribution\n",
    "3- binomial distribution\n",
    "4- exponential distribution"
   ]
  },
  {
   "cell_type": "code",
   "execution_count": null,
   "id": "c8e0f779",
   "metadata": {},
   "outputs": [],
   "source": [
    "# Que(9)\n",
    "# Ans\n",
    "Central limit theorem\n",
    "states that when you take a large enough sample size from a population,\n",
    "the distribution of the sample means will be approximately normally distributed,\n",
    "in any case of the shape of the population's distribution."
   ]
  },
  {
   "cell_type": "code",
   "execution_count": 19,
   "id": "c3ec4ae5",
   "metadata": {},
   "outputs": [
    {
     "name": "stdout",
     "output_type": "stream",
     "text": [
      "Choose an operation:\n",
      "1. Addition\n",
      "2. Subtraction\n",
      "3. Multiplication\n",
      "4. Quit\n",
      "Enter your choice (1/2/3/4): 3\n",
      "Enter the first number: 3\n",
      "Enter the second number: 3\n",
      "Result: 9.0\n",
      "Choose an operation:\n",
      "1. Addition\n",
      "2. Subtraction\n",
      "3. Multiplication\n",
      "4. Quit\n",
      "Enter your choice (1/2/3/4): 4\n",
      "Exiting the program.\n"
     ]
    }
   ],
   "source": [
    "def calulator():\n",
    "    while True:\n",
    "        print(\"Choose an option:\")\n",
    "        print(\"1. Addition\")\n",
    "        print(\"2. Subtraction\")\n",
    "        print(\"3. Multiplication\")\n",
    "        print(\"4. Quit\")\n",
    "        \n",
    "        choice = input(\"Enter your choice (1/2/3/4): \")\n",
    "\n",
    "        if choice == '4':\n",
    "            print(\"Exiting the program.\")\n",
    "            break\n",
    "        elif choice in ('1', '2', '3'):\n",
    "            num1 = float(input(\"Enter the first number: \"))\n",
    "            num2 = float(input(\"Enter the second number: \"))\n",
    "            \n",
    "            if choice == '1':\n",
    "                result = num1 + num2\n",
    "                print(\"Result:\", result)\n",
    "            elif choice == '2':\n",
    "                result = num1 - num2\n",
    "                print(\"Result:\", result)\n",
    "                \n",
    "            elif choice == '3':\n",
    "                result = num1 * num2\n",
    "                print(\"Result:\", result)\n",
    "        else:\n",
    "            print(\"Invalid input. Please enter a valid choice.\")\n",
    "calulator()\n"
   ]
  },
  {
   "cell_type": "code",
   "execution_count": null,
   "id": "6a2d9cd3",
   "metadata": {},
   "outputs": [],
   "source": []
  },
  {
   "cell_type": "markdown",
   "id": "160494eb",
   "metadata": {},
   "source": [
    "#                                       EDA"
   ]
  },
  {
   "cell_type": "code",
   "execution_count": 20,
   "id": "552cc1e7",
   "metadata": {},
   "outputs": [],
   "source": [
    "import numpy as np\n",
    "import pandas as pd \n",
    "import seaborn as sns\n",
    "import matplotlib.pyplot as plt"
   ]
  },
  {
   "cell_type": "code",
   "execution_count": 21,
   "id": "34c44055",
   "metadata": {},
   "outputs": [
    {
     "data": {
      "text/html": [
       "<div>\n",
       "<style scoped>\n",
       "    .dataframe tbody tr th:only-of-type {\n",
       "        vertical-align: middle;\n",
       "    }\n",
       "\n",
       "    .dataframe tbody tr th {\n",
       "        vertical-align: top;\n",
       "    }\n",
       "\n",
       "    .dataframe thead th {\n",
       "        text-align: right;\n",
       "    }\n",
       "</style>\n",
       "<table border=\"1\" class=\"dataframe\">\n",
       "  <thead>\n",
       "    <tr style=\"text-align: right;\">\n",
       "      <th></th>\n",
       "      <th>Invoice ID</th>\n",
       "      <th>Branch</th>\n",
       "      <th>City</th>\n",
       "      <th>Customer type</th>\n",
       "      <th>Gender</th>\n",
       "      <th>Product line</th>\n",
       "      <th>Unit price</th>\n",
       "      <th>Quantity</th>\n",
       "      <th>Tax 5%</th>\n",
       "      <th>Total</th>\n",
       "      <th>Date</th>\n",
       "      <th>Time</th>\n",
       "      <th>Payment</th>\n",
       "      <th>cogs</th>\n",
       "      <th>gross margin percentage</th>\n",
       "      <th>gross income</th>\n",
       "      <th>Rating</th>\n",
       "    </tr>\n",
       "  </thead>\n",
       "  <tbody>\n",
       "    <tr>\n",
       "      <th>0</th>\n",
       "      <td>750-67-8428</td>\n",
       "      <td>A</td>\n",
       "      <td>Yangon</td>\n",
       "      <td>Member</td>\n",
       "      <td>Female</td>\n",
       "      <td>Health and beauty</td>\n",
       "      <td>74.69</td>\n",
       "      <td>7</td>\n",
       "      <td>26.1415</td>\n",
       "      <td>548.9715</td>\n",
       "      <td>1/5/2019</td>\n",
       "      <td>13:08</td>\n",
       "      <td>Ewallet</td>\n",
       "      <td>522.83</td>\n",
       "      <td>4.761905</td>\n",
       "      <td>26.1415</td>\n",
       "      <td>9.1</td>\n",
       "    </tr>\n",
       "    <tr>\n",
       "      <th>1</th>\n",
       "      <td>226-31-3081</td>\n",
       "      <td>C</td>\n",
       "      <td>Naypyitaw</td>\n",
       "      <td>Normal</td>\n",
       "      <td>Female</td>\n",
       "      <td>Electronic accessories</td>\n",
       "      <td>15.28</td>\n",
       "      <td>5</td>\n",
       "      <td>3.8200</td>\n",
       "      <td>80.2200</td>\n",
       "      <td>3/8/2019</td>\n",
       "      <td>10:29</td>\n",
       "      <td>Cash</td>\n",
       "      <td>76.40</td>\n",
       "      <td>4.761905</td>\n",
       "      <td>3.8200</td>\n",
       "      <td>9.6</td>\n",
       "    </tr>\n",
       "    <tr>\n",
       "      <th>2</th>\n",
       "      <td>631-41-3108</td>\n",
       "      <td>A</td>\n",
       "      <td>Yangon</td>\n",
       "      <td>Normal</td>\n",
       "      <td>Male</td>\n",
       "      <td>Home and lifestyle</td>\n",
       "      <td>46.33</td>\n",
       "      <td>7</td>\n",
       "      <td>16.2155</td>\n",
       "      <td>340.5255</td>\n",
       "      <td>3/3/2019</td>\n",
       "      <td>13:23</td>\n",
       "      <td>Credit card</td>\n",
       "      <td>324.31</td>\n",
       "      <td>4.761905</td>\n",
       "      <td>16.2155</td>\n",
       "      <td>7.4</td>\n",
       "    </tr>\n",
       "    <tr>\n",
       "      <th>3</th>\n",
       "      <td>123-19-1176</td>\n",
       "      <td>A</td>\n",
       "      <td>Yangon</td>\n",
       "      <td>Member</td>\n",
       "      <td>Male</td>\n",
       "      <td>Health and beauty</td>\n",
       "      <td>58.22</td>\n",
       "      <td>8</td>\n",
       "      <td>23.2880</td>\n",
       "      <td>489.0480</td>\n",
       "      <td>1/27/2019</td>\n",
       "      <td>20:33</td>\n",
       "      <td>Ewallet</td>\n",
       "      <td>465.76</td>\n",
       "      <td>4.761905</td>\n",
       "      <td>23.2880</td>\n",
       "      <td>8.4</td>\n",
       "    </tr>\n",
       "    <tr>\n",
       "      <th>4</th>\n",
       "      <td>373-73-7910</td>\n",
       "      <td>A</td>\n",
       "      <td>Yangon</td>\n",
       "      <td>Normal</td>\n",
       "      <td>Male</td>\n",
       "      <td>Sports and travel</td>\n",
       "      <td>86.31</td>\n",
       "      <td>7</td>\n",
       "      <td>30.2085</td>\n",
       "      <td>634.3785</td>\n",
       "      <td>2/8/2019</td>\n",
       "      <td>10:37</td>\n",
       "      <td>Ewallet</td>\n",
       "      <td>604.17</td>\n",
       "      <td>4.761905</td>\n",
       "      <td>30.2085</td>\n",
       "      <td>5.3</td>\n",
       "    </tr>\n",
       "  </tbody>\n",
       "</table>\n",
       "</div>"
      ],
      "text/plain": [
       "    Invoice ID Branch       City Customer type  Gender  \\\n",
       "0  750-67-8428      A     Yangon        Member  Female   \n",
       "1  226-31-3081      C  Naypyitaw        Normal  Female   \n",
       "2  631-41-3108      A     Yangon        Normal    Male   \n",
       "3  123-19-1176      A     Yangon        Member    Male   \n",
       "4  373-73-7910      A     Yangon        Normal    Male   \n",
       "\n",
       "             Product line  Unit price  Quantity   Tax 5%     Total       Date  \\\n",
       "0       Health and beauty       74.69         7  26.1415  548.9715   1/5/2019   \n",
       "1  Electronic accessories       15.28         5   3.8200   80.2200   3/8/2019   \n",
       "2      Home and lifestyle       46.33         7  16.2155  340.5255   3/3/2019   \n",
       "3       Health and beauty       58.22         8  23.2880  489.0480  1/27/2019   \n",
       "4       Sports and travel       86.31         7  30.2085  634.3785   2/8/2019   \n",
       "\n",
       "    Time      Payment    cogs  gross margin percentage  gross income  Rating  \n",
       "0  13:08      Ewallet  522.83                 4.761905       26.1415     9.1  \n",
       "1  10:29         Cash   76.40                 4.761905        3.8200     9.6  \n",
       "2  13:23  Credit card  324.31                 4.761905       16.2155     7.4  \n",
       "3  20:33      Ewallet  465.76                 4.761905       23.2880     8.4  \n",
       "4  10:37      Ewallet  604.17                 4.761905       30.2085     5.3  "
      ]
     },
     "execution_count": 21,
     "metadata": {},
     "output_type": "execute_result"
    }
   ],
   "source": [
    "df=pd.read_csv('supermarket.csv')\n",
    "df.head()"
   ]
  },
  {
   "cell_type": "code",
   "execution_count": 23,
   "id": "1179ef62",
   "metadata": {},
   "outputs": [
    {
     "data": {
      "text/plain": [
       "Index(['Invoice ID', 'Branch', 'City', 'Customer type', 'Gender',\n",
       "       'Product line', 'Unit price', 'Quantity', 'Tax 5%', 'Total', 'Date',\n",
       "       'Time', 'Payment', 'cogs', 'gross margin percentage', 'gross income',\n",
       "       'Rating'],\n",
       "      dtype='object')"
      ]
     },
     "execution_count": 23,
     "metadata": {},
     "output_type": "execute_result"
    }
   ],
   "source": [
    "df.columns\n"
   ]
  },
  {
   "cell_type": "code",
   "execution_count": 27,
   "id": "5b0390d8",
   "metadata": {},
   "outputs": [],
   "source": [
    "df.drop( ['Time'],axis=1,inplace=True)"
   ]
  },
  {
   "cell_type": "code",
   "execution_count": 28,
   "id": "eaaebfa1",
   "metadata": {},
   "outputs": [],
   "source": [
    "df.drop( ['Invoice ID'],axis=1,inplace=True)"
   ]
  },
  {
   "cell_type": "code",
   "execution_count": 29,
   "id": "eca4a913",
   "metadata": {},
   "outputs": [
    {
     "data": {
      "text/plain": [
       "Index(['Branch', 'City', 'Customer type', 'Gender', 'Product line',\n",
       "       'Unit price', 'Quantity', 'Tax 5%', 'Total', 'Date', 'Payment', 'cogs',\n",
       "       'gross margin percentage', 'gross income', 'Rating'],\n",
       "      dtype='object')"
      ]
     },
     "execution_count": 29,
     "metadata": {},
     "output_type": "execute_result"
    }
   ],
   "source": [
    "df.columns"
   ]
  },
  {
   "cell_type": "code",
   "execution_count": 38,
   "id": "bf7acc0a",
   "metadata": {},
   "outputs": [
    {
     "data": {
      "text/plain": [
       "<Axes: xlabel='Product line', ylabel='count'>"
      ]
     },
     "execution_count": 38,
     "metadata": {},
     "output_type": "execute_result"
    },
    {
     "data": {
      "image/png": "[encoded data removed]",
      "text/plain": [
       "<Figure size 640x480 with 1 Axes>"
      ]
     },
     "metadata": {},
     "output_type": "display_data"
    }
   ],
   "source": [
    "# Que2\n",
    "sns.countplot(x='Product line',data=df)"
   ]
  },
  {
   "cell_type": "code",
   "execution_count": null,
   "id": "a3e70525",
   "metadata": {},
   "outputs": [],
   "source": [
    " cash"
   ]
  },
  {
   "cell_type": "code",
   "execution_count": 36,
   "id": "ae1acecb",
   "metadata": {},
   "outputs": [
    {
     "data": {
      "text/plain": [
       "Branch                     1000\n",
       "City                       1000\n",
       "Customer type              1000\n",
       "Gender                     1000\n",
       "Product line               1000\n",
       "Unit price                 1000\n",
       "Quantity                   1000\n",
       "Tax 5%                     1000\n",
       "Total                      1000\n",
       "Date                       1000\n",
       "Payment                    1000\n",
       "cogs                       1000\n",
       "gross margin percentage    1000\n",
       "gross income               1000\n",
       "Rating                     1000\n",
       "dtype: int64"
      ]
     },
     "execution_count": 36,
     "metadata": {},
     "output_type": "execute_result"
    }
   ],
   "source": [
    "# Que3\n",
    "df.count()"
   ]
  },
  {
   "cell_type": "code",
   "execution_count": 35,
   "id": "571f589e",
   "metadata": {},
   "outputs": [
    {
     "data": {
      "image/png": "[encoded data removed]",
      "text/plain": [
       "<Figure size 3000x500 with 2 Axes>"
      ]
     },
     "metadata": {},
     "output_type": "display_data"
    }
   ],
   "source": [
    "# Que 4\n",
    "f, ax= plt.subplots(1,2, figsize=(30,5))\n",
    "sns.boxplot(x='Total', data=df, ax=ax[0])\n",
    "sns.boxplot(y='Quantity', data=df, ax=ax[1])\n",
    "\n",
    "\n",
    "plt.show()"
   ]
  },
  {
   "cell_type": "code",
   "execution_count": 33,
   "id": "c188a2a0",
   "metadata": {},
   "outputs": [
    {
     "name": "stderr",
     "output_type": "stream",
     "text": [
      "C:\\Users\\Harish\\AppData\\Local\\Temp\\ipykernel_4284\\3968637990.py:3: FutureWarning: The default value of numeric_only in DataFrame.corr is deprecated. In a future version, it will default to False. Select only valid columns or specify the value of numeric_only to silence this warning.\n",
      "  sns.heatmap(df.corr(), annot=True,cmap='RdYlGn')\n"
     ]
    },
    {
     "data": {
      "text/plain": [
       "<Axes: >"
      ]
     },
     "execution_count": 33,
     "metadata": {},
     "output_type": "execute_result"
    },
    {
     "data": {
      "image/png": "[encoded data removed]",
      "text/plain": [
       "<Figure size 1000x1000 with 2 Axes>"
      ]
     },
     "metadata": {},
     "output_type": "display_data"
    }
   ],
   "source": [
    "# Que 5\n",
    "plt.figure(figsize=(10,10))\n",
    "sns.heatmap(df.corr(), annot=True,cmap='RdYlGn')"
   ]
  }
 ],
 "metadata": {
  "kernelspec": {
   "display_name": "Python 3 (ipykernel)",
   "language": "python",
   "name": "python3"
  },
  "language_info": {
   "codemirror_mode": {
    "name": "ipython",
    "version": 3
   },
   "file_extension": ".py",
   "mimetype": "text/x-python",
   "name": "python",
   "nbconvert_exporter": "python",
   "pygments_lexer": "ipython3",
   "version": "3.11.4"
  }
 },
 "nbformat": 4,
 "nbformat_minor": 5
}
